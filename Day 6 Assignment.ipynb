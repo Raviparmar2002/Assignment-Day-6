{
 "cells": [
  {
   "cell_type": "markdown",
   "metadata": {},
   "source": [
    "\n",
    "# Assignment Day 6"
   ]
  },
  {
   "cell_type": "markdown",
   "metadata": {},
   "source": [
    "Question 1\n",
    "For this challenge,create a bank account class that has two attributes \n",
    "\n",
    "ownerName\n",
    "\n",
    "Balance\n",
    "\n",
    "And two methods\n",
    "\n",
    "deposit\n",
    "\n",
    "withdraw\n",
    "\n",
    "As an added requirement,withdrawals may not exceed the available balance.\n",
    "\n",
    "Instantiate your class,make several deposits and withdrawals,and test to make sure the account cant be overdrawn."
   ]
  },
  {
   "cell_type": "code",
   "execution_count": 2,
   "metadata": {},
   "outputs": [
    {
     "name": "stdout",
     "output_type": "stream",
     "text": [
      "\n",
      "Enter 1 for withdrawl\t \n",
      "      2 for deposite\t \n",
      "      3 for Abort\t1\n",
      "Enter the amount\t3000\n",
      "Hello Ravikumar\n",
      "Withdrawl Successful\n",
      "\n",
      "Remaining balance: 2000\n",
      "\n",
      "\n",
      "Enter 1 for withdrawl\t \n",
      "      2 for deposite\t \n",
      "      3 for Abort\t1\n",
      "Enter the amount\t2500\n",
      "Sorry Ravikumar\n",
      "Balance is unsufficient\n",
      "\n",
      "\n",
      "Enter 1 for withdrawl\t \n",
      "      2 for deposite\t \n",
      "      3 for Abort\t2\n",
      "Hello Ravikumar\n",
      "Enter the amount to be deposited500\n",
      "Deposite Successful\n",
      "Your balance is 2500\n",
      "\n",
      "\n",
      "Enter 1 for withdrawl\t \n",
      "      2 for deposite\t \n",
      "      3 for Abort\t1\n",
      "Enter the amount\t2500\n",
      "Hello Ravikumar\n",
      "Withdrawl Successful\n",
      "\n",
      "Remaining balance: 0\n",
      "\n",
      "\n",
      "Enter 1 for withdrawl\t \n",
      "      2 for deposite\t \n",
      "      3 for Abort\t3\n",
      "Good Bye\n"
     ]
    }
   ],
   "source": [
    "class bank:\n",
    "    def __init__(self, ownerName, balance):\n",
    "        self.ownerName = ownerName\n",
    "        self.balance = balance\n",
    "    def withdraw(self):\n",
    "        wdrw = int(input(\"Enter the amount\\t\"))\n",
    "        if self.balance >= wdrw:\n",
    "            print(f\"Hello {self.ownerName}\\nWithdrawl Successful\\n\")\n",
    "            print(f\"Remaining balance: {self.balance - wdrw}\\n\")\n",
    "            self.balance -= wdrw\n",
    "        else:\n",
    "            print(f\"Sorry {self.ownerName}\\nBalance is unsufficient\\n\")\n",
    "    def deposite(self):\n",
    "        self.balance += int(input(f\"Hello {self.ownerName}\\nEnter the amount to be deposited\"))\n",
    "        print(f\"Deposite Successful\\nYour balance is {self.balance}\\n\")\n",
    "\n",
    "xyz = bank(\"Ravikumar\", 5000)\n",
    "ch = 0\n",
    "while ch != 3:\n",
    "    ch = int(input(\"\\nEnter 1 for withdrawl\\t \\n      2 for deposite\\t \\n      3 for Abort\\t\"))\n",
    "    if ch == 1:\n",
    "        xyz.withdraw()\n",
    "    elif ch == 2:\n",
    "        xyz.deposite()\n",
    "    elif ch ==3:\n",
    "        print(\"Good Bye\")\n",
    "    else:\n",
    "        print(\"Wrong choice\")"
   ]
  },
  {
   "cell_type": "raw",
   "metadata": {},
   "source": [
    "=============================================================================================================================="
   ]
  },
  {
   "cell_type": "markdown",
   "metadata": {},
   "source": [
    "Question 2\n",
    "\n",
    "For this challenge,create a cone class that has two attributes:\n",
    "\n",
    "*R=Radius\n",
    "\n",
    "*h=Height\n",
    "\n",
    "And two methods:\n",
    "\n",
    "*Volume = Π * r2 * (h/3)\n",
    "\n",
    "*Surface area : base : Π * r2 , side : Π * r * √(r2 + h2)\n",
    "\n",
    "Make only one class with functions,as in where required import Math.\n"
   ]
  },
  {
   "cell_type": "code",
   "execution_count": 4,
   "metadata": {},
   "outputs": [
    {
     "name": "stdout",
     "output_type": "stream",
     "text": [
      "Enter the value of Radius\t3\n",
      "Enter the value of Height5\n",
      "47.1238898038469\n",
      "Base area is 28.274333882308138\n",
      "Side area is 54.955426908844444\n"
     ]
    }
   ],
   "source": [
    "import math as math\n",
    "class cone:\n",
    "    def __init__(self, r, h):\n",
    "        self.r = r\n",
    "        self.h = h\n",
    "    def volume(self):\n",
    "        print((math.pi * self.r ** 2 * self.h) / 3)\n",
    "    def surface(self):\n",
    "        print(f\"Base area is {math.pi * self.r ** 2}\")\n",
    "        print(f\"Side area is {math.pi * self.r * math.sqrt(self.r ** 2 + self.h ** 2)}\")\n",
    "\n",
    "xyz = cone(float(input(\"Enter the value of Radius\\t\")) , float(input(\"Enter the value of Height\")))\n",
    "xyz.volume()\n",
    "xyz.surface()"
   ]
  }
 ],
 "metadata": {
  "kernelspec": {
   "display_name": "Python 3",
   "language": "python",
   "name": "python3"
  },
  "language_info": {
   "codemirror_mode": {
    "name": "ipython",
    "version": 3
   },
   "file_extension": ".py",
   "mimetype": "text/x-python",
   "name": "python",
   "nbconvert_exporter": "python",
   "pygments_lexer": "ipython3",
   "version": "3.6.10"
  }
 },
 "nbformat": 4,
 "nbformat_minor": 4
}
